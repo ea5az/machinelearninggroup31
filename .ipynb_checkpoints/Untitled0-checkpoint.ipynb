{
 "metadata": {
  "name": "",
  "signature": "sha256:3a7a8cedcd7c7bed85921a8a6e5e97997cedeac455fcfc92d167c6c4d889eda7"
 },
 "nbformat": 3,
 "nbformat_minor": 0,
 "worksheets": []
}