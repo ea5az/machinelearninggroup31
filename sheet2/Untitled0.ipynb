{
 "metadata": {
  "name": "",
  "signature": "sha256:0390be1ef9d9ad18de11c69564e891c2f505f7859402666427ac6e29adcd8290"
 },
 "nbformat": 3,
 "nbformat_minor": 0,
 "worksheets": [
  {
   "cells": [
    {
     "cell_type": "code",
     "collapsed": false,
     "input": [
      "#!/usr/bin/env python\n",
      "\n",
      "# imports\n",
      "import numpy as np\n",
      "import matplotlib.pyplot as plt\n",
      "import sklearn as skl\n",
      "import pydot\n",
      "from scipy.io import loadmat\n",
      "\n",
      "# set threshold value as constant\n",
      "THRESHOLD_VALUE = 3\n",
      "\n",
      "# implement RosnerTest function\n",
      "def rosnerTest(zpoints, measure):\n",
      "    # set zmax-value to start the while-loop, since do-while-loops do not exist in python\n",
      "    zmax = THRESHOLD_VALUE\n",
      "\n",
      "    # while there are still outliers\n",
      "    while zmax >= THRESHOLD_VALUE:\n",
      "\n",
      "        # get mean/median and standard deviation of data points\n",
      "        if measure == 'mean':\n",
      "            zme_an = np.mean(zpoints)\n",
      "        elif measure == 'median':\n",
      "            zme_an = np.median(zpoints)\n",
      "        zstd = np.std(zpoints)\n",
      "\n",
      "        # initialize our greatest z-value found so far\n",
      "        zmax = -1\n",
      "\n",
      "        # calculate z-value for each datapoint and get z-value maximum\n",
      "        for point in zpoints:\n",
      "            zvalue = np.abs((point - zme_an))/zstd\n",
      "            if zvalue > zmax:\n",
      "                zmax = zvalue\n",
      "                zmaxpoint = point\n",
      "\n",
      "        # if maximum z-value is above threshold, remove outlier\n",
      "        if zmax >= THRESHOLD_VALUE:\n",
      "            zpoints = np.delete(zpoints, zmaxpoint)\n",
      "\n",
      "    return zpoints\n",
      "\n",
      "# get matlab array\n",
      "zpoints = loadmat(file_name=\"zPoints\", matlab_compatible=True)['x']\n",
      "\n",
      "# create figure for plots\n",
      "plt.figure(figsize=(10,12))\n",
      "\n",
      "# execute Rosner-Test using mean and plot result\n",
      "# (normally plt.plot would also plot index of numpy array on x-dimension, here a\n",
      "# array full of 0s is used instead to plot the points above each other)\n",
      "mean_result = rosnerTest(zpoints,'mean')\n",
      "rest_zpoints = np.delete(zpoints,mean_result)\n",
      "plt.subplot(121)\n",
      "plt.plot(np.zeros(rest_zpoints.shape[0]),rest_zpoints,\"ro\")\n",
      "plt.plot(np.zeros(mean_result.shape[0]),mean_result,\"o\")\n",
      "plt.ylabel(\"data-point value\")\n",
      "plt.title(\"Mean for Z-Value Calculation\")\n",
      "\n",
      "# execute Rosner-Test using median and plot result\n",
      "median_result = rosnerTest(zpoints,'median')\n",
      "rest_zpoints = np.delete(zpoints,median_result)\n",
      "plt.subplot(122)\n",
      "plt.plot(np.zeros(rest_zpoints.shape[0]),rest_zpoints,\"ro\")\n",
      "plt.plot(np.zeros(median_result.shape[0]),median_result,\"o\")\n",
      "plt.ylabel(\"data-point value\")\n",
      "plt.title(\"Median for Z-Value Calculation\")\n"
     ],
     "language": "python",
     "metadata": {},
     "outputs": [
      {
       "ename": "ImportError",
       "evalue": "No module named pydot",
       "output_type": "pyerr",
       "traceback": [
        "\u001b[0;31m---------------------------------------------------------------------------\u001b[0m\n\u001b[0;31mImportError\u001b[0m                               Traceback (most recent call last)",
        "\u001b[0;32m<ipython-input-1-49952d025176>\u001b[0m in \u001b[0;36m<module>\u001b[0;34m()\u001b[0m\n\u001b[1;32m      5\u001b[0m \u001b[0;32mimport\u001b[0m \u001b[0mmatplotlib\u001b[0m\u001b[0;34m.\u001b[0m\u001b[0mpyplot\u001b[0m \u001b[0;32mas\u001b[0m \u001b[0mplt\u001b[0m\u001b[0;34m\u001b[0m\u001b[0m\n\u001b[1;32m      6\u001b[0m \u001b[0;32mimport\u001b[0m \u001b[0msklearn\u001b[0m \u001b[0;32mas\u001b[0m \u001b[0mskl\u001b[0m\u001b[0;34m\u001b[0m\u001b[0m\n\u001b[0;32m----> 7\u001b[0;31m \u001b[0;32mimport\u001b[0m \u001b[0mpydot\u001b[0m\u001b[0;34m\u001b[0m\u001b[0m\n\u001b[0m\u001b[1;32m      8\u001b[0m \u001b[0;32mfrom\u001b[0m \u001b[0mscipy\u001b[0m\u001b[0;34m.\u001b[0m\u001b[0mio\u001b[0m \u001b[0;32mimport\u001b[0m \u001b[0mloadmat\u001b[0m\u001b[0;34m\u001b[0m\u001b[0m\n\u001b[1;32m      9\u001b[0m \u001b[0;34m\u001b[0m\u001b[0m\n",
        "\u001b[0;31mImportError\u001b[0m: No module named pydot"
       ]
      }
     ],
     "prompt_number": 1
    },
    {
     "cell_type": "code",
     "collapsed": false,
     "input": [],
     "language": "python",
     "metadata": {},
     "outputs": []
    }
   ],
   "metadata": {}
  }
 ]
}